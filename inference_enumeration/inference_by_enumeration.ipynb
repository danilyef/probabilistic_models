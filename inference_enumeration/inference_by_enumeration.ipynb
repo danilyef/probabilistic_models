{
 "cells": [
  {
   "attachments": {},
   "cell_type": "markdown",
   "metadata": {
    "deletable": false,
    "editable": false,
    "nbgrader": {
     "cell_type": "markdown",
     "checksum": "7c825c99b287a630be7bcd337b2a39e7",
     "grade": false,
     "grade_id": "cell-c781491e675bc243",
     "locked": true,
     "schema_version": 3,
     "solution": false,
     "task": false
    }
   },
   "source": [
    "# Probability, Bayes' Theorem, (Conditional) Independence"
   ]
  },
  {
   "cell_type": "code",
   "execution_count": 1,
   "metadata": {
    "deletable": false,
    "editable": false,
    "nbgrader": {
     "cell_type": "code",
     "checksum": "b365f5f777d01b6067e5bdb4b3de9e13",
     "grade": false,
     "grade_id": "cell-51881e798cecd18e",
     "locked": true,
     "schema_version": 3,
     "solution": false,
     "task": false
    }
   },
   "outputs": [],
   "source": [
    "import numpy as np\n",
    "from helpers import print_table"
   ]
  },
  {
   "attachments": {},
   "cell_type": "markdown",
   "metadata": {
    "deletable": false,
    "editable": false,
    "nbgrader": {
     "cell_type": "markdown",
     "checksum": "d9c005320c7140577886a4e9248d1357",
     "grade": false,
     "grade_id": "cell-b2e0ba07390e1f91",
     "locked": true,
     "schema_version": 3,
     "solution": false,
     "task": false
    }
   },
   "source": [
    "# 1. Inference-by-Enumeration \n",
    "\n",
    "The Inference-by-Enumeration algorithm computes the answer to a probabilistic query $P(\\mathbf{X} \\mid \\mathbf{E})$ exactly from the full joint distribution table (FJDT).\n",
    "\n",
    "---\n",
    "### 1.1. Implementation\n",
    "\n",
    "\n",
    "<div class=\"alert alert-warning\">\n",
    "Implement the Inference-by-Enumeration algorithm. \n",
    "</div>\n",
    "\n",
    "Implement the `inference_by_enumeration` function for a generic probabilistic query of the form $P(\\mathbf{X} \\mid \\mathbf{E})$. Note that this version of the Inference-by-Enumeration algorithm computes the probabilistic query for all possible assignments to the evidence variables, not only for one specific assignment. The function must return one object:\n",
    "- The answer to the probabilistic query, which is a `np.ndarray` with the same number of dimensions and the same variable order as the FJDT, but not the same size: The dimensions of non-query and non-evidence variables ($\\mathbf{Z}$) must be converted to singleton dimensions, i.e., dimensions of size one.\n",
    "\n",
    "For example, if we have a full joint distribution table of three binary variables (shape $2\\times2\\times2$) and we ask for the distributions of the first variable given the second variable, the result would be of shape $2\\times2\\times1$ (corresponding to two stacked conditional distribution tables)."
   ]
  },
  {
   "cell_type": "code",
   "execution_count": 2,
   "metadata": {
    "deletable": false,
    "nbgrader": {
     "cell_type": "code",
     "checksum": "c5aa04b113f1798af7ffbc26a43242cf",
     "grade": false,
     "grade_id": "cell-e338604447ed75ae",
     "locked": false,
     "schema_version": 3,
     "solution": true,
     "task": false
    }
   },
   "outputs": [],
   "source": [
    "def inference_by_enumeration(FJDT: np.ndarray, query_variable_indices: tuple, evidence_variable_indices: tuple=tuple()) -> np.ndarray:\n",
    "    '''\n",
    "    Computes the answer to a probabilistic query exactly from the full joint distribution table.\n",
    "    :param table: The full joint distribution table as a np.ndarray.\n",
    "    :param query_variable_indices: A tuple containing the indices of the query variables in the FJDT.\n",
    "    :param evidence_variable_indices: A tuple containing the indices of the evidence variables in the FJDT.\n",
    "    :returns: The answer to the probabilistic query; a `np.ndarray`.\n",
    "    ''' \n",
    "    assert type(FJDT) == np.ndarray, \"FJDT must be a np.ndarray\"\n",
    "    assert type(query_variable_indices) == tuple, \"query_variable_indices must be a tuple\"\n",
    "    assert type(evidence_variable_indices) == tuple, \"evidence_variable_indices must be a tuple\"\n",
    "    \n",
    "    # compute the set of non-query and non-evidence variables, Z\n",
    "    query_variables = query_variable_indices + evidence_variable_indices\n",
    "    Z = tuple(set(range(FJDT.ndim)).difference(query_variables))\n",
    "    #step 1: marginal distribution\n",
    "    marg_dist = np.sum(FJDT,axis = Z,keepdims = True)\n",
    "\n",
    "    #step 2: normalization constant\n",
    "    norm_const = np.sum(marg_dist,axis = query_variable_indices,keepdims = True)\n",
    "    #step 3: final result\n",
    "    result = marg_dist/norm_const\n",
    "    return result "
   ]
  },
  {
   "cell_type": "code",
   "execution_count": 3,
   "metadata": {
    "deletable": false,
    "editable": false,
    "nbgrader": {
     "cell_type": "code",
     "checksum": "817cfb452efd8a92118ca59f8c43177c",
     "grade": true,
     "grade_id": "cell-401afea0155cf05c",
     "locked": true,
     "points": 2,
     "schema_version": 3,
     "solution": false,
     "task": false
    }
   },
   "outputs": [
    {
     "data": {
      "text/plain": [
       "array([[[0.25, 0.25],\n",
       "        [0.25, 0.25]],\n",
       "\n",
       "       [[0.25, 0.25],\n",
       "        [0.25, 0.25]]])"
      ]
     },
     "execution_count": 3,
     "metadata": {},
     "output_type": "execute_result"
    }
   ],
   "source": [
    "# create a full joint distribution table for three binary variables\n",
    "ABC = np.ones((2,2,2)) / 8\n",
    "# name the variable indices so we can refer to them more easily\n",
    "A, B, C = 0, 1, 2\n",
    "# check type & shape of result\n",
    "assert type(inference_by_enumeration(ABC, (B, C), ())) == np.ndarray\n",
    "# compute P(A)\n",
    "assert inference_by_enumeration(ABC, (A,), ()).shape == (2, 1, 1)\n",
    "# compute P(BC)\n",
    "assert inference_by_enumeration(ABC, (B, C), ()).shape == (1, 2, 2)\n",
    "# compute P(BC|A)\n",
    "assert inference_by_enumeration(ABC, (B, C), (A,)).shape == (2, 2, 2)\n",
    "# compute P(B|AC)\n",
    "assert inference_by_enumeration(ABC, (B,), (C,A,)).shape == (2, 2, 2)\n",
    "\n",
    "inference_by_enumeration(ABC, (B, C), (A,))"
   ]
  },
  {
   "attachments": {},
   "cell_type": "markdown",
   "metadata": {
    "deletable": false,
    "editable": false,
    "nbgrader": {
     "cell_type": "markdown",
     "checksum": "17aac60294dd506802ef2bf2ab8e0449",
     "grade": false,
     "grade_id": "cell-2a50910ecab76ec5",
     "locked": true,
     "schema_version": 3,
     "solution": false,
     "task": false
    }
   },
   "source": [
    "---\n",
    "### 1.2. Full Joint Distribution Table\n",
    "\n",
    "<br>\n",
    "<center><img src=\"https://upload.wikimedia.org/wikipedia/commons/b/b9/Atlantic_blue_marlin.jpg\" width=\"500\" height=\"600\">\n",
    "<br>\n",
    "\n",
    "Based on his experience, Santiago, an old Cuban fisherman, has learned that temperature and precipitation are the most prominent factors influencing marlin fishing. After decades of (more or less) successful years, he decides to retire and pass on his knowledge to a young apprentice. Since the apprentice received excellent grades in her probabilistic models class, he creates the following full joint distribution table $P(C, R, H)$ and hands it over to her:\n",
    "\n",
    "\n",
    "<table style=\"border-collapse:collapse;border-spacing:0;width:500px\"><tr><th style=\"font-family:Arial, sans-serif;font-size:14px;font-weight:normal;padding:10px 5px;border-style:solid;border-width:1px;overflow:hidden;word-break:normal;text-align:center\" rowspan=\"2\">$P({C}, {R}, {H})$</th><th style=\"font-family:Arial, sans-serif;font-size:14px;font-weight:normal;padding:10px 5px;border-style:solid;border-width:1px;overflow:hidden;word-break:normal;text-align:center;vertical-align:top\" colspan=\"2\">$\\neg r$<br></th><th style=\"font-family:Arial, sans-serif;font-size:14px;font-weight:normal;padding:10px 5px;border-style:solid;border-width:1px;overflow:hidden;word-break:normal;text-align:center;vertical-align:top\" colspan=\"2\">$r$</th></tr><tr><td style=\"font-family:Arial, sans-serif;font-size:14px;padding:10px 5px;border-style:solid;border-width:1px;overflow:hidden;word-break:normal;text-align:center;vertical-align:top\">$\\neg h$</td><td style=\"font-family:Arial, sans-serif;font-size:14px;padding:10px 5px;border-style:solid;border-width:1px;overflow:hidden;word-break:normal;text-align:center;vertical-align:top\">$h$</td><td style=\"font-family:Arial, sans-serif;font-size:14px;padding:10px 5px;border-style:solid;border-width:1px;overflow:hidden;word-break:normal;text-align:center;vertical-align:top\">$\\neg h$</td><td style=\"font-family:Arial, sans-serif;font-size:14px;padding:10px 5px;border-style:solid;border-width:1px;overflow:hidden;word-break:normal;text-align:center;vertical-align:top\">$h$</td></tr><tr><td style=\"font-family:Arial, sans-serif;font-size:14px;padding:10px 5px;border-style:solid;border-width:1px;overflow:hidden;word-break:normal;text-align:center\">$\\neg c$<br></td><td style=\"font-family:Arial, sans-serif;font-size:14px;padding:10px 5px;border-style:solid;border-width:1px;overflow:hidden;word-break:normal;text-align:center;vertical-align:top\">0.26</td><td style=\"font-family:Arial, sans-serif;font-size:14px;padding:10px 5px;border-style:solid;border-width:1px;overflow:hidden;word-break:normal;text-align:center;vertical-align:top\">0.32</td><td style=\"font-family:Arial, sans-serif;font-size:14px;padding:10px 5px;border-style:solid;border-width:1px;overflow:hidden;word-break:normal;text-align:center;vertical-align:top\">0.35</td><td style=\"font-family:Arial, sans-serif;font-size:14px;padding:10px 5px;border-style:solid;border-width:1px;overflow:hidden;word-break:normal;text-align:center;vertical-align:top\">0.01<br></td></tr><tr><td style=\"font-family:Arial, sans-serif;font-size:14px;padding:10px 5px;border-style:solid;border-width:1px;overflow:hidden;word-break:normal;text-align:center\">$c$</td><td style=\"font-family:Arial, sans-serif;font-size:14px;padding:10px 5px;border-style:solid;border-width:1px;overflow:hidden;word-break:normal;text-align:center;vertical-align:top\">0.04</td><td style=\"font-family:Arial, sans-serif;font-size:14px;padding:10px 5px;border-style:solid;border-width:1px;overflow:hidden;word-break:normal;text-align:center;vertical-align:top\">0.01</td><td style=\"font-family:Arial, sans-serif;font-size:14px;padding:10px 5px;border-style:solid;border-width:1px;overflow:hidden;word-break:normal;text-align:center;vertical-align:top\">0.004</td><td style=\"font-family:Arial, sans-serif;font-size:14px;padding:10px 5px;border-style:solid;border-width:1px;overflow:hidden;word-break:normal;text-align:center;vertical-align:top\">0.006</td></tr></table>\n",
    "\n",
    "In this table, $C$, $R$, and $H$ are the binary random variables encoding catch, rain, and hot, respectively. \n",
    "    "
   ]
  },
  {
   "cell_type": "code",
   "execution_count": 6,
   "metadata": {
    "deletable": false,
    "editable": false,
    "nbgrader": {
     "cell_type": "code",
     "checksum": "cf96dbb6a8fc3d340b4096ab18b9d70c",
     "grade": false,
     "grade_id": "cell-8521b465b79c30bb",
     "locked": true,
     "schema_version": 3,
     "solution": false,
     "task": false
    }
   },
   "outputs": [
    {
     "name": "stdout",
     "output_type": "stream",
     "text": [
      "Help on function print_table in module helpers:\n",
      "\n",
      "print_table(probability_table: numpy.ndarray, variable_names: str) -> None\n",
      "    Prints a probability distribution table.\n",
      "    \n",
      "    Parameters\n",
      "    ----------\n",
      "    probability_table : np.ndarray\n",
      "        The probability distribution table\n",
      "    variable_names : str\n",
      "        A string containing the variable names, e.g., 'CDE'.\n",
      "    \n",
      "    Returns\n",
      "    -------\n",
      "    None\n",
      "\n"
     ]
    }
   ],
   "source": [
    "help(print_table)"
   ]
  },
  {
   "cell_type": "markdown",
   "metadata": {
    "deletable": false,
    "editable": false,
    "nbgrader": {
     "cell_type": "markdown",
     "checksum": "943e109e119d16c75916e55e3c3e7a45",
     "grade": false,
     "grade_id": "cell-8a1c4e6e175e9891",
     "locked": true,
     "schema_version": 3,
     "solution": false,
     "task": false
    }
   },
   "source": [
    "<div class=\"alert alert-warning\">\n",
    "Create a NumPy array that contains the full joint distribution table $P(C, R, H)$ as defined above. <b>Important</b>: Encode $C$, $R$, and $H$ in the first, second, and third dimension of the NumPy array, respectively. Use index 0 for event *False* and index 1 for event *True*. (1 point)\n",
    "</div>"
   ]
  },
  {
   "cell_type": "code",
   "execution_count": 4,
   "metadata": {
    "deletable": false,
    "jupyter": {
     "outputs_hidden": true
    },
    "nbgrader": {
     "cell_type": "code",
     "checksum": "43e525fc7a6b6de69635eb33836072d1",
     "grade": false,
     "grade_id": "cell-30fabe50b83e969e",
     "locked": false,
     "schema_version": 3,
     "solution": true,
     "task": false
    }
   },
   "outputs": [
    {
     "data": {
      "text/html": [
       "<table><tr><td> </td><td>$r_0$</td><td>$r_0$</td><td>$r_1$</td><td>$r_1$</td></tr><tr><td> </td><td>$h_0$</td><td>$h_1$</td><td>$h_0$</td><td>$h_1$</td></tr><tr><td>$c_0$</td><td>0.260</td><td>0.320</td><td>0.350</td><td>0.010</td></tr><tr><td>$c_1$</td><td>0.040</td><td>0.010</td><td>0.004</td><td>0.006</td></tr></table>"
      ],
      "text/plain": [
       "<IPython.core.display.HTML object>"
      ]
     },
     "metadata": {},
     "output_type": "display_data"
    }
   ],
   "source": [
    "CRH = np.ones((2,2,2))\n",
    "CRH[0,0,0] = 0.26\n",
    "CRH[0,0,1] = 0.32\n",
    "CRH[1,0,0] = 0.04\n",
    "CRH[1,0,1] = 0.01\n",
    "CRH[0,1,0] = 0.35 \n",
    "CRH[0,1,1] = 0.01\n",
    "CRH[1,1,0] = 0.004\n",
    "CRH[1,1,1] = 0.006\n",
    "\n",
    "Catch,Rain,Hot = 0,1,2\n",
    "print_table(CRH, 'CRH')\n"
   ]
  },
  {
   "cell_type": "code",
   "execution_count": 5,
   "metadata": {
    "deletable": false,
    "editable": false,
    "nbgrader": {
     "cell_type": "code",
     "checksum": "6527084fabb1b71fd5545972b155c08b",
     "grade": true,
     "grade_id": "cell-ec062108f58d1520",
     "locked": true,
     "points": 1,
     "schema_version": 3,
     "solution": false,
     "task": false
    }
   },
   "outputs": [],
   "source": [
    "assert CRH is not None, 'Store the result into the variable \\'CRH\\'!'\n",
    "assert CRH.shape == (2,2,2), 'The full joint distribution table must have shape (2,2,2)'\n",
    "assert CRH.sum() == 1, 'The probabilities of all atomic events must sum to one.'\n"
   ]
  },
  {
   "attachments": {},
   "cell_type": "markdown",
   "metadata": {
    "deletable": false,
    "editable": false,
    "nbgrader": {
     "cell_type": "markdown",
     "checksum": "42857488a1cdc09494f1f9a81014da2f",
     "grade": false,
     "grade_id": "cell-b595169e7b70a756",
     "locked": true,
     "schema_version": 3,
     "solution": false,
     "task": false
    }
   },
   "source": [
    "---\n",
    "### 1.3. Independence\n",
    "\n",
    "<div class=\"alert alert-warning\">\n",
    "Show that catching the marlin is not independent of the weather being rainy, (i.e., $C \\not \\perp R$) by showing that the joint distribution of the variables is not equal to the product of the marginals.\n",
    "</div>"
   ]
  },
  {
   "cell_type": "code",
   "execution_count": 6,
   "metadata": {
    "deletable": false,
    "nbgrader": {
     "cell_type": "code",
     "checksum": "dca492a473c74deec4168a568b41fc73",
     "grade": false,
     "grade_id": "cell-f2c76a832cc06c59",
     "locked": false,
     "schema_version": 3,
     "solution": true,
     "task": false
    }
   },
   "outputs": [
    {
     "name": "stdout",
     "output_type": "stream",
     "text": [
      "Product of Marginals:\n"
     ]
    },
    {
     "data": {
      "text/html": [
       "<table><tr><td> </td><td>$r_0$</td><td>$r_1$</td></tr><tr><td>$c_0$</td><td>0.592</td><td>0.348</td></tr><tr><td>$c_1$</td><td>0.038</td><td>0.022</td></tr></table>"
      ],
      "text/plain": [
       "<IPython.core.display.HTML object>"
      ]
     },
     "metadata": {},
     "output_type": "display_data"
    },
    {
     "name": "stdout",
     "output_type": "stream",
     "text": [
      "Joint Probability:\n"
     ]
    },
    {
     "data": {
      "text/html": [
       "<table><tr><td> </td><td>$r_0$</td><td>$r_1$</td></tr><tr><td>$c_0$</td><td>0.580</td><td>0.360</td></tr><tr><td>$c_1$</td><td>0.050</td><td>0.010</td></tr></table>"
      ],
      "text/plain": [
       "<IPython.core.display.HTML object>"
      ]
     },
     "metadata": {},
     "output_type": "display_data"
    }
   ],
   "source": [
    "CR = inference_by_enumeration(CRH, (Catch,Rain,), ())# store the joint distribution here\n",
    "C_times_R = inference_by_enumeration(CRH, (Catch,), ()) * inference_by_enumeration(CRH, (Rain,), ()) # store the product of the marginal distributions here\n",
    "\n",
    "CR = np.squeeze(CR,axis = 2)\n",
    "C_times_R = np.squeeze(C_times_R,axis = 2)\n",
    "\n",
    "print('Product of Marginals:')\n",
    "print_table(C_times_R, 'CR')\n",
    "\n",
    "print('Joint Probability:')\n",
    "print_table(CR, 'CR')\n"
   ]
  },
  {
   "cell_type": "code",
   "execution_count": 7,
   "metadata": {
    "deletable": false,
    "editable": false,
    "nbgrader": {
     "cell_type": "code",
     "checksum": "f6c1822a531ebdfb796c71fab17f184e",
     "grade": true,
     "grade_id": "cell-1264ae651b7ddb7b",
     "locked": true,
     "points": 1,
     "schema_version": 3,
     "solution": false,
     "task": false
    }
   },
   "outputs": [],
   "source": [
    "assert type(CR) == np.ndarray, 'Results must be NumPy arrays.'\n",
    "assert type(C_times_R) == np.ndarray, 'Results must be NumPy arrays.'\n",
    "\n",
    "assert CR.shape == (2,2), 'Results must be 2x2 arrays.'\n",
    "assert C_times_R.shape == (2,2), 'Results must be 2x2 arrays.'"
   ]
  }
 ],
 "metadata": {
  "kernelspec": {
   "display_name": "Python 3.9.12 ('base')",
   "language": "python",
   "name": "python3"
  },
  "language_info": {
   "codemirror_mode": {
    "name": "ipython",
    "version": 3
   },
   "file_extension": ".py",
   "mimetype": "text/x-python",
   "name": "python",
   "nbconvert_exporter": "python",
   "pygments_lexer": "ipython3",
   "version": "3.9.12"
  },
  "vscode": {
   "interpreter": {
    "hash": "40d3a090f54c6569ab1632332b64b2c03c39dcf918b08424e98f38b5ae0af88f"
   }
  }
 },
 "nbformat": 4,
 "nbformat_minor": 4
}
