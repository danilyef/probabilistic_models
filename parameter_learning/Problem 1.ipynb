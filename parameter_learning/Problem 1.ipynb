{
 "cells": [
  {
   "attachments": {},
   "cell_type": "markdown",
   "metadata": {
    "deletable": false,
    "editable": false,
    "nbgrader": {
     "cell_type": "markdown",
     "checksum": "e3ea3b3862b5db193da64dc6445d755e",
     "grade": false,
     "grade_id": "cell-f57ba107dc3ee0f6",
     "locked": true,
     "schema_version": 3,
     "solution": false,
     "task": false
    }
   },
   "source": [
    "<div class=\"alert alert-danger\">\n",
    "\n",
    "\n",
    "\n",
    "# Gibbs Sampling & Parameter Learning\n",
    "\n",
    "\n",
    "---\n",
    "In the third notebook, you will familiarise yourself with Gibbs sampling, estimate the (conditional) probability tables (i.e., parameters) of a given network structure from data, and compare the performance of different models in terms of log-likelihood.\n",
    "\n",
    "\n"
   ]
  },
  {
   "cell_type": "code",
   "execution_count": 1,
   "metadata": {
    "deletable": false,
    "editable": false,
    "nbgrader": {
     "cell_type": "code",
     "checksum": "0ffdb374537744995e24d5d7ead5b7aa",
     "grade": false,
     "grade_id": "cell-93a25d73c760b3dc",
     "locked": true,
     "schema_version": 3,
     "solution": false,
     "task": false
    }
   },
   "outputs": [],
   "source": [
    "import numpy as np\n",
    "import matplotlib.pyplot as plt\n",
    "\n",
    "from bayesian_network import BayesNet, Variable\n",
    "from utils import sample_categorical, sample_lw, get_default_bayes_net"
   ]
  },
  {
   "attachments": {},
   "cell_type": "markdown",
   "metadata": {
    "deletable": false,
    "editable": false,
    "nbgrader": {
     "cell_type": "markdown",
     "checksum": "41f90085190ff8fc7c1eae0fcb66ddd1",
     "grade": false,
     "grade_id": "cell-22454d3cc82de6a4",
     "locked": true,
     "schema_version": 3,
     "solution": false,
     "task": false
    }
   },
   "source": [
    "# Gibbs Sampling\n",
    "\n",
    "<div class=\"alert alert-warning\">\n",
    "Implement the Gibbs sampling algorithm and use it to approximate $P(A \\mid D, E)$.\n",
    "</div>\n",
    "\n",
    "In Gibbs sampling, we sample directly from $P( \\mathbf{X} \\mid \\mathbf{E}=\\mathbf{e})$. We do this by implicitly constructing a sequence of proposal distributions that converge to the target distribution.\n",
    "\n",
    "## To Implementation\n",
    "\n",
    "Implement\n",
    "- `resampling_distribution`,\n",
    "- `sample_gibbs`, and\n",
    "- `gibbs_sampling`.\n",
    "\n",
    "`resampling_distribution` computes the re-sampling distribution for a given variable.\n",
    "\n",
    "`sample_gibbs` samples a sequence of random events according to all the relevant re-sampling distributions. \n",
    "\n",
    "`gibbs_sampling` approximates $P( X \\mid \\mathbf{E}=\\mathbf{e})$ from a sequence of random events. Again, we will only consider probabilistic queries with one query variable $X$.\n",
    "\n",
    "### Pre-computing the Re-sampling Distribution\n",
    "\n",
    "\n",
    "Before we implement the Gibbs sampling algorithm, let us fist write a helper function, which pre-computes the re-sampling distribution $P(X \\mid mb(X))$ for an arbitrary variable $X$ in a given Bayesian Network.\n",
    "\n",
    "Reconsider the Bayesian network from Problem Set 2:\n",
    "\n",
    "<img width='30%' src='img/bn.svg'>\n",
    "\n",
    "To pre-compute $P(B \\mid mb(B)) = P(B \\mid A, C, D)$, we only need the conditional distribution of the $B$ and all of B's children, i.e., $P(B \\mid A)$ and $P(D \\mid B, C)$\n",
    "\n",
    "\n",
    "<img width='30%' src='img/mb.png'>\n",
    "\n",
    "\n",
    "The re-sampling distibution of $B$ can then be computed as follows: $P(B \\mid A, C, D) = \\frac{ P(D \\mid B, C) \\cdot P(B \\mid A)}{P(D \\mid A, C)} = \\frac{ P(B, D \\mid A, C)}{P(D \\mid A, C)} = \\frac{ P(B, D \\mid A, C)}{\\sum_{b \\in val(B)} P(B=b, D \\mid A, C)}$\n",
    "\n",
    "As an example, let's compute the re-sampling distribution for $B$ with NumPy. First, let us create the bayes net:"
   ]
  },
  {
   "cell_type": "code",
   "execution_count": 2,
   "metadata": {
    "deletable": false,
    "editable": false,
    "nbgrader": {
     "cell_type": "code",
     "checksum": "93dd696e3ed1ed4f6bf614a79853863e",
     "grade": false,
     "grade_id": "cell-58b823716104508c",
     "locked": true,
     "schema_version": 3,
     "solution": false,
     "task": false
    }
   },
   "outputs": [],
   "source": [
    "# initialize the Bayes net\n",
    "_A_, _B_, _C_, _D_, _E_ = 0, 1, 2, 3, 4\n",
    "\n",
    "A = np.array([0.2, 0.8])\n",
    "B_A = np.array([[0.9, 0.2], [0.1, 0.8]])\n",
    "C = np.array([0.9, 0.1])\n",
    "D_BC = np.array([[[0.1, 0.2], [0.99, 0.8]], [[0.9, 0.8], [0.01, 0.2]]])\n",
    "E_C = np.array([[0.7, 0.4], [0.3, 0.6]])\n",
    "            \n",
    "bayes_net = BayesNet(\n",
    "    (A, [_A_]),\n",
    "    (B_A, [_B_, _A_]),\n",
    "    (C, [_C_]),\n",
    "    (D_BC, [_D_, _B_, _C_]),\n",
    "    (E_C, [_E_, _C_])\n",
    ")"
   ]
  },
  {
   "cell_type": "markdown",
   "metadata": {
    "deletable": false,
    "editable": false,
    "nbgrader": {
     "cell_type": "markdown",
     "checksum": "0ab96457e4d6f393fe1781d82953b060",
     "grade": false,
     "grade_id": "cell-8712f6a224f45f16",
     "locked": true,
     "schema_version": 3,
     "solution": false,
     "task": false
    }
   },
   "source": [
    "We can use the (conditional) probability distribution tables of each variable (`variable.pdt`) to compute the re-sampling distribution. Note that the axes of `variable.pdt` are in correspondence with the `variable.id`s of all variables, and singleton dimensions are inserted for non-parent variables. This will make computations easier, b/c we don't have to swap dimensions or insert empty dimensions for broadcasting:"
   ]
  },
  {
   "cell_type": "code",
   "execution_count": 3,
   "metadata": {
    "deletable": false,
    "editable": false,
    "nbgrader": {
     "cell_type": "code",
     "checksum": "a0648d50b6a0db5c2ec9d3d517d29295",
     "grade": false,
     "grade_id": "cell-1897c98f4ee3961e",
     "locked": true,
     "schema_version": 3,
     "solution": false,
     "task": false
    }
   },
   "outputs": [
    {
     "name": "stdout",
     "output_type": "stream",
     "text": [
      "Shape of P(A):     (2, 1, 1, 1, 1)\n",
      "Shape of P(B | A): (2, 2, 1, 1, 1)\n"
     ]
    }
   ],
   "source": [
    "print('Shape of P(A):    ', bayes_net[_A_].pdt.shape)\n",
    "print('Shape of P(B | A):', bayes_net[_B_].pdt.shape)"
   ]
  },
  {
   "attachments": {},
   "cell_type": "markdown",
   "metadata": {
    "deletable": false,
    "editable": false,
    "nbgrader": {
     "cell_type": "markdown",
     "checksum": "8ec19b94c1af63ae3261b069fa9c8764",
     "grade": false,
     "grade_id": "cell-6188fd84040d49c1",
     "locked": true,
     "schema_version": 3,
     "solution": false,
     "task": false
    }
   },
   "source": [
    "Computing $P(B \\mid A, C, D) = \\frac{ P(B, D \\mid A, C)}{\\sum_{b \\in val(B)} P(B=b, D \\mid A, C)}$ is easy:"
   ]
  },
  {
   "cell_type": "code",
   "execution_count": 4,
   "metadata": {
    "deletable": false,
    "editable": false,
    "nbgrader": {
     "cell_type": "code",
     "checksum": "e5bbceefdc8b62795eb330adebf193a4",
     "grade": false,
     "grade_id": "cell-30a0567a9ffc1831",
     "locked": true,
     "schema_version": 3,
     "solution": false,
     "task": false
    }
   },
   "outputs": [],
   "source": [
    "# compute the rdt\n",
    "\n",
    "# P(D | B, C) * P(B | A) == P(B, D | A, C)\n",
    "rdt = bayes_net[_D_].pdt * bayes_net[_B_].pdt\n",
    "\n",
    "# P(D | B, C) * P(B | A) / P(D | A, C) == P(B, D | A, C) / P(D | A, C)\n",
    "rdt = rdt / rdt.sum(axis=_B_, keepdims=True)\n"
   ]
  },
  {
   "cell_type": "markdown",
   "metadata": {
    "deletable": false,
    "editable": false,
    "nbgrader": {
     "cell_type": "markdown",
     "checksum": "61212d57569baaf6767a540b28601bab",
     "grade": false,
     "grade_id": "cell-c34706b6bdbfe4a7",
     "locked": true,
     "schema_version": 3,
     "solution": false,
     "task": false
    }
   },
   "source": [
    "The dimensions of the re-sampling distribution table are sorted by variable id, and singleton dimensions of size 1 are inserted for non-Markov-blanket variables. This is also the expected output format of the *resampling_distribution* function."
   ]
  },
  {
   "attachments": {},
   "cell_type": "markdown",
   "metadata": {
    "deletable": false,
    "editable": false,
    "nbgrader": {
     "cell_type": "markdown",
     "checksum": "ba8c51b51c09ea31e59ca1dec91a6f33",
     "grade": false,
     "grade_id": "cell-1cc43b62830671a1",
     "locked": true,
     "schema_version": 3,
     "solution": false,
     "task": false
    }
   },
   "source": [
    "## Pre-computing All the Re-sampling Distributions\n",
    "\n",
    "The `BayesNet` class has an optional constructor argument that we did not use so far: It can take a function that computes the resampling distribution for a given variable. If this is provided, the `BayesNet` will use it to precompute resampling distribution tables for all its variables upon construction. These will come useful when we implement Gibbs sampling.\n",
    "\n",
    "<div class=\"alert alert-warning\">\n",
    "    To implement:  <i>resampling_distribution</i> function, which computes the re-sampling distribution for a given variable.\n",
    "</div>\n",
    "\n",
    "`resampling_distribution` takes two parameters:\n",
    "- `variable` is a `Variable` object for which the re-sampling distribution is to be computed.\n",
    "- `bayes_net` is a `BayesNet` object which holds the (conditional) probability distribution table of each variable.\n",
    "\n",
    "`resampling_distribution` returns a tuple containing two objects:\n",
    "- a `np.ndarray` containing the re-sampling distribution $P(X \\mid \\textit{mb}(X))$ of the variable. The dimensions of the re-sampling distribution table must be sorted by variable id, and singleton dimensions of size 1 must be inserted for non-Markov-blanket variables.\n",
    "- a `set` containing the IDs of all variables in $\\textit{mb}(X)$. "
   ]
  },
  {
   "cell_type": "code",
   "execution_count": 5,
   "metadata": {
    "deletable": false,
    "nbgrader": {
     "cell_type": "code",
     "checksum": "d508685eb4c95a8f1d243b5db6ca2970",
     "grade": false,
     "grade_id": "cell-464a86a09df9563f",
     "locked": false,
     "schema_version": 3,
     "solution": true,
     "task": false
    }
   },
   "outputs": [],
   "source": [
    "def resampling_distribution(variable: Variable, bayes_net: BayesNet):\n",
    "    '''\n",
    "    Computes the resampling distribution given a variable and a Bayesian network.\n",
    "    :param variable: The variable for which to compute the resampling distribution.\n",
    "    :param bayes_net: A Bayesian network of type BayesNet. The bayes net is used to obtain \n",
    "                      probability table from child variables.\n",
    "    :returns: A tuple containing the resampling distribution ('rdt') and a list containing\n",
    "              the IDs of variables in the Markov blanket ('mb').\n",
    "    '''\n",
    "    \n",
    "    mb =  set()\n",
    "    \n",
    "    #children of the variable\n",
    "    variable_children = set(variable.children)\n",
    "    mb.update(variable.parents)\n",
    "    mb.update(variable.children)\n",
    "\n",
    "    \n",
    "    rdt = variable.pdt\n",
    "    for i in variable_children:\n",
    "        rdt = rdt * bayes_net[i].pdt\n",
    "        mb.update(bayes_net[i].parents)\n",
    "    \n",
    "    mb = mb.difference(set([variable.id]))\n",
    "    rdt = rdt / rdt.sum(axis = variable.id, keepdims=True)\n",
    "    \n",
    "    assert rdt.ndim == len(bayes_net)\n",
    "    assert variable.id not in mb\n",
    "    assert type(mb) is set\n",
    "    \n",
    "    return rdt, mb"
   ]
  },
  {
   "cell_type": "code",
   "execution_count": 6,
   "metadata": {
    "deletable": false,
    "editable": false,
    "nbgrader": {
     "cell_type": "code",
     "checksum": "8b421d004a1d92195405684d692fe9c7",
     "grade": true,
     "grade_id": "cell-6d645eda5b831e05",
     "locked": true,
     "points": 4,
     "schema_version": 3,
     "solution": false,
     "task": false
    }
   },
   "outputs": [],
   "source": [
    "# get_default_bayes_net returns the same Bayes net as defined above; just in case the variable was modified...\n",
    "bayes_net = get_default_bayes_net()\n",
    "\n",
    "# compute resampling distribution table of P( B | mb(B) ); same as above \n",
    "rdt = bayes_net[_D_].pdt * bayes_net[_B_].pdt\n",
    "rdt = rdt / rdt.sum(axis=_B_, keepdims=True)\n",
    "# set containing all the indices of the variables in mb(B)\n",
    "mb = {_A_, _D_, _C_}\n",
    "\n",
    "expected = rdt, mb\n",
    "actual = resampling_distribution(bayes_net[_B_], bayes_net)\n",
    "\n",
    "#sanity checks\n",
    "assert type(actual[1]) == type(expected[1]), f'Set of parents has wrong data type.\\n Expected: {type(expected[1])}\\nGiven: {type(actual[1])}'\n",
    "assert actual[1] == expected[1], f'The variables in the Markov blanket are not correct.\\n Expected: {expected[1]}\\nGiven: {actual[1]}'\n",
    "\n",
    "assert expected[0].shape == actual[0].shape, f'\\nResampling distribution has the wrong shape!\\nExpected: {expected[0].shape}\\nGiven:\\t  {actual[0].shape}'\n",
    "assert expected[0].dtype == actual[0].dtype, f'\\nWrong numpy array data type!\\nExpected: {expected[0].dtype}\\nGiven:\\t  {actual[0].dtype}'\n",
    "assert np.all(np.isclose(expected[0], actual[0])), f'Computation of resampling distribution did not yield the correct result.'\n"
   ]
  },
  {
   "attachments": {},
   "cell_type": "markdown",
   "metadata": {
    "deletable": false,
    "editable": false,
    "nbgrader": {
     "cell_type": "markdown",
     "checksum": "695d00e0bdfb2619aafb6bdaaf1b47af",
     "grade": false,
     "grade_id": "cell-19c55071121f95ac",
     "locked": true,
     "schema_version": 3,
     "solution": false,
     "task": false
    }
   },
   "source": [
    "### Gibbs Sampling\n",
    "<div class=\"alert alert-warning\">\n",
    "To implement: <i>sample_gibbs</i> function, which samples directly from $P( \\mathbf{X} \\mid \\mathbf{E}=\\mathbf{e})$.\n",
    "</div>\n",
    "\n",
    "`sample_gibbs` takes five parameters:\n",
    "- `bayes_net` is a `BayesNet` object to draw samples from (it uses your `resampling_distribution()` from above).\n",
    "- `sample_size` is the number of samples to use for the estimation.\n",
    "- `evidence` is a dictionary of variable_ids (keys) and values (values) assigned to the variable. (optional, default = {})\n",
    "- `burn_in_samples` gives the number of burn-in steps to take (>= 0). (optional, default = 0)\n",
    "- `sample_distance` gives the number of steps to take to get the next sample (> 0). (optional, default = 1)\n",
    "\n",
    "`sample_gibbs` function must return one object:\n",
    "- samples from $P( \\mathbf{X} \\mid \\mathbf{E}=\\mathbf{e})$ of type `np.ndarray`, with shape `(sample_size, len(bayes_net))`\n",
    "\n"
   ]
  },
  {
   "cell_type": "code",
   "execution_count": 7,
   "metadata": {
    "deletable": false,
    "nbgrader": {
     "cell_type": "code",
     "checksum": "f205b2bb4981297214cff9af0fef82fd",
     "grade": false,
     "grade_id": "cell-5bffad00b80764bf",
     "locked": false,
     "schema_version": 3,
     "solution": true,
     "task": false
    }
   },
   "outputs": [],
   "source": [
    "def sample_gibbs(bayes_net: BayesNet, sample_size: int, evidence: dict={}, burn_in_samples: int=0, sample_distance: int=1):\n",
    "    '''\n",
    "    Returns sample_size samples from the P( X | E=e ).\n",
    "    :param bayes_net: A Bayesian network of type BayesNet.\n",
    "    :param sample_size: The number of samples to use for the estimation.\n",
    "    :param evidence: A dictionary of evidence variables (keys, int) and their correponding values (values, int).\n",
    "    :param burn_in_samples: The number of burn-in samples to throw away (>= 0).\n",
    "    :param sample_distance: Use only every n-th sample. (> 0)\n",
    "    :returns: A NumPy array of type np.int64 with shape (sample_size, len(bayes_net)).\n",
    "    '''\n",
    "\n",
    "    \n",
    "    assert burn_in_samples >= 0\n",
    "    assert sample_distance > 0\n",
    "    \n",
    "    samples = np.empty((sample_size, len(bayes_net)), np.int64)\n",
    "    samples[0] = sample_lw(bayes_net, 1, evidence=evidence)[0]\n",
    "    def n_steps(bayes_net, random_event, steps):\n",
    "        for _ in range(steps):\n",
    "            for variable in bayes_net:\n",
    "                if variable.id not in evidence:\n",
    "                    distribution = variable(random_event, resampling=True)\n",
    "                    random_event[variable.id] = sample_categorical(distribution)\n",
    "                else:\n",
    "                    random_event[variable.id] = evidence[variable.id]\n",
    "        return random_event\n",
    "    samples[0] = n_steps(bayes_net, samples[0], burn_in_samples) \n",
    "    for i in range(1, sample_size):\n",
    "        samples[i] = n_steps(bayes_net, samples[i-1].copy(), sample_distance)\n",
    "    return samples\n"
   ]
  },
  {
   "cell_type": "code",
   "execution_count": 8,
   "metadata": {
    "deletable": false,
    "editable": false,
    "nbgrader": {
     "cell_type": "code",
     "checksum": "32d213eee25eaf4b7be2be0cbe5db9e0",
     "grade": true,
     "grade_id": "cell-4c54221d4bd46592",
     "locked": true,
     "points": 4,
     "schema_version": 3,
     "solution": false,
     "task": false
    }
   },
   "outputs": [],
   "source": [
    "# get_default_bayes_net returns the same Bayes net as defined above; just in case the variable was modified...\n",
    "# this time we also pass the function to pre-compute the resampling distributions\n",
    "bayes_net = get_default_bayes_net(resampling_distribution=resampling_distribution)\n",
    "\n",
    "np.random.seed(0)\n",
    "expected = np.array([[0, 0, 0, 1, 0], [0, 0, 0, 0, 0], [0, 0, 1, 0, 0],\n",
    "                     [0, 0, 0, 0, 0], [0, 0, 0, 1, 0], [0, 0, 0, 1, 1]], dtype=np.int64)\n",
    "actual = sample_gibbs(bayes_net, 6, {0:0}, 7, 3)\n",
    "\n",
    "# sanity checks\n",
    "assert type(actual) == type(expected), f'\\nWrong output type!\\nExpected: {type(expected)}\\nGiven:\\t  {type(actual)}'\n",
    "assert actual.shape == expected.shape, f'\\nWrong output shape!\\nExpected: {expected.shape}\\nGiven:\\t  {actual.shape}'\n",
    "assert actual.dtype == expected.dtype, f'\\nWrong numpy array data type!\\nExpected: {expected.dtype}\\nGiven:\\t  {actual.dtype}'\n",
    "assert np.all(np.isclose(actual, expected)), f'samples and reference samples do not match.\\nExpected:\\n{expected}\\n\\nGiven:\\n{actual}\\n\\nIf your last two samples are the same, this may hint at a bug.'"
   ]
  },
  {
   "attachments": {},
   "cell_type": "markdown",
   "metadata": {
    "deletable": false,
    "editable": false,
    "nbgrader": {
     "cell_type": "markdown",
     "checksum": "d5eb0edcbdeee0d930f07568577f6571",
     "grade": false,
     "grade_id": "cell-f980ef62e03bc242",
     "locked": true,
     "schema_version": 3,
     "solution": false,
     "task": false
    }
   },
   "source": [
    "<div class=\"alert alert-warning\">\n",
    "To implement: <i>gibbs_sampling</i> function to estimate the probability distribution over the query variable $X$ given the evidence $\\mathbf{E}=\\mathbf{e}$, $P(X \\mid \\mathbf{E}=\\mathbf{e})$.\n",
    "</div>\n",
    "\n",
    "`gibbs_sampling` takes six parameters:\n",
    "- `bayes_net` is a `BayesNet` object to draw samples from.\n",
    "- `query_variable_id` is the id of the query variable (int).\n",
    "- `evidence` is a dictionary of variable_ids (keys) and values (values) assigned to the variable. (optional, default = {})\n",
    "- `sample_size` gives the number of samples to use for the estimation (optional, default = 100).\n",
    "- `burn_in_samples` gives the number of burn-in samples to throw away (>= 0). (optional, default = 0)\n",
    "- `sample_distance` gives the number of steps to take to get the next sample (> 0). (optional, default = 1)\n",
    "\n",
    "`gibbs_sampling` function must return one object:\n",
    "-  The probability distribution over variable $X$ of type `np.ndarray` with shape `(bayes_net[query_variable_id].num_values,)`.\n"
   ]
  },
  {
   "cell_type": "code",
   "execution_count": 9,
   "metadata": {
    "deletable": false,
    "nbgrader": {
     "cell_type": "code",
     "checksum": "e58fe39deb2d624e52c1011530dd7fc0",
     "grade": false,
     "grade_id": "cell-01863042be3b4d68",
     "locked": false,
     "schema_version": 3,
     "solution": true,
     "task": false
    }
   },
   "outputs": [],
   "source": [
    "def gibbs_sampling(bayes_net: BayesNet, query_variable_id: int, evidence: dict={}, sample_size: int=100, burn_in_samples: int=0, sample_distance: int=1):\n",
    "    '''\n",
    "    Estimates the distribution of the query variale given the value of the evidence variables.\n",
    "    :param bayes_net: A Bayesian network of type BayesNet.\n",
    "    :param query_variable_id: The id of the query variable (int).\n",
    "    :param evidence: A dictionary of evidence variables (keys, int) and their correponding values (values, int).\n",
    "    :param sample_size: The number of samples to use for the estimation.\n",
    "    :burn_in_samples: The number of burn-in samples to throw away (>= 0).\n",
    "    :param sample_distance: Use only every n-th sample. (> 0)\n",
    "    :returns: A NumPy array of type np.float64 representing the conditional distribution of the query variable given evidence. \n",
    "    '''\n",
    "    \n",
    "    # draw samples...\n",
    "    smpls = sample_gibbs(\n",
    "        bayes_net, \n",
    "        sample_size, \n",
    "        evidence=evidence, \n",
    "        burn_in_samples=burn_in_samples, \n",
    "        sample_distance=sample_distance\n",
    "    )\n",
    "    \n",
    "    query_count = np.bincount(smpls[:,query_variable_id],minlength = bayes_net[query_variable_id].num_values)\n",
    "    distribution = query_count / len(smpls)\n",
    "\n",
    "    return distribution"
   ]
  },
  {
   "cell_type": "code",
   "execution_count": 10,
   "metadata": {
    "deletable": false,
    "editable": false,
    "nbgrader": {
     "cell_type": "code",
     "checksum": "7b5954cf8865ccf0400b2185dcfd4f7e",
     "grade": true,
     "grade_id": "cell-4b6cfd6dfcb9aeaa",
     "locked": true,
     "points": 2,
     "schema_version": 3,
     "solution": false,
     "task": false
    }
   },
   "outputs": [],
   "source": [
    "# get_default_bayes_net returns the same Bayes net as defined above; just in case the variable was modified...\n",
    "# again, we also pass the function to pre-compute the resampling distributions\n",
    "bayes_net = get_default_bayes_net(resampling_distribution=resampling_distribution)\n",
    "\n",
    "np.random.seed(0)\n",
    "expected = np.array([0.25, 0.75], dtype=np.float64)\n",
    "actual = gibbs_sampling(bayes_net, 0, {2:1}, 100, 5, 3)\n",
    "\n",
    "# sanity checks\n",
    "assert type(actual) == type(expected), f'\\nWrong output type!\\nExpected: {type(expected)}\\nGiven:\\t  {type(actual)}'\n",
    "assert actual.shape == expected.shape, f'\\nWrong output shape!\\nExpected: {expected.shape}\\nGiven:\\t  {actual.shape}'\n",
    "assert actual.dtype == expected.dtype , f'\\nWrong numpy array data type!\\nExpected: {expected.dtype}\\nGiven:\\t  {actual.dtype}'\n",
    "assert  np.all(np.isclose(actual, expected)), f'Wrong output value.'\n",
    "\n",
    "\n"
   ]
  },
  {
   "cell_type": "markdown",
   "metadata": {
    "deletable": false,
    "editable": false,
    "nbgrader": {
     "cell_type": "markdown",
     "checksum": "918c953ace81c398652578cf5703d5bd",
     "grade": false,
     "grade_id": "cell-6b71a5c25f4de499",
     "locked": true,
     "schema_version": 3,
     "solution": false,
     "task": false
    }
   },
   "source": [
    "## Example\n",
    "\n",
    "\n",
    "Reconsider the Bayesian Network from the previous problems:\n",
    "\n",
    "<img width='30%' src='img/bn.svg'>\n",
    "\n",
    "The conditional probability tables are given as:\n",
    "\n",
    "<table style=\"float: left;margin:5px;\"><tr><th>P(A)</th><th>$a_0$<br></th><th>$a_1$</th></tr><tr><td>-</td><td>0.2</td><td>0.8</td></tr></table>\n",
    "\n",
    "<table style=\"float: left;margin:5px;\"><tr><th>P(C)</th><th>$c_0$<br></th><th>$c_1$</th></tr><tr><td>-</td><td>0.9</td><td>0.1</td></tr></table>\n",
    "\n",
    "<table style=\"float: left;margin:5px;\"><tr><th>P(B | A)</th><th>$a_0$<br></th><th>$a_1$</th></tr><tr><td>$b_0$</td><td>0.9</td><td>0.2</td></tr><tr><td>$b_1$</td><td>0.1</td><td>0.8</td></tr></table>\n",
    "\n",
    "\n",
    "<table style=\"float: left;margin:5px;\"><tr><th rowspan=\"2\">P(D | B, C)</th><th colspan=\"2\">$b_0$<br></th><th colspan=\"2\">$b_1$</th></tr><tr><td>$c_0$</td><td>$c_1$</td><td>$c_0$</td><td>$c_1$</td></tr><tr><td>$d_0$<br></td><td>0.1</td><td>0.2</td><td>0.99</td><td>0.8</td></tr><tr><td>$d_1$</td><td>0.9</td><td>0.8</td><td>0.01</td><td>0.2</td></tr></table>\n",
    "\n",
    "<table style=\"float: left;margin:5px;\"><tr><th>P(E | C)</th><th>$c_0$</th><th>$c_1$</th></tr><tr><td>$e_0$</td><td>0.7</td><td>0.4</td></tr><tr><td>$e_1$</td><td>0.3</td><td>0.6</td></tr></table>"
   ]
  },
  {
   "cell_type": "code",
   "execution_count": 11,
   "metadata": {
    "deletable": false,
    "editable": false,
    "nbgrader": {
     "cell_type": "code",
     "checksum": "455c7409e034f50d0d865c6f96c48c6a",
     "grade": false,
     "grade_id": "cell-1ff7d8ff45f4c36e",
     "locked": true,
     "schema_version": 3,
     "solution": false,
     "task": false
    }
   },
   "outputs": [],
   "source": [
    "bayes_net = get_default_bayes_net(resampling_distribution=resampling_distribution)"
   ]
  },
  {
   "attachments": {},
   "cell_type": "markdown",
   "metadata": {
    "deletable": false,
    "editable": false,
    "nbgrader": {
     "cell_type": "markdown",
     "checksum": "3a9fb2d1359afc365da53fd8adefd326",
     "grade": false,
     "grade_id": "cell-5dc000e76026780b",
     "locked": true,
     "schema_version": 3,
     "solution": false,
     "task": false
    }
   },
   "source": [
    "### Comparison\n",
    "\n",
    "Run the following code cell to plot the average [Kullback-Leibler divergence](https://en.wikipedia.org/wiki/Kullback%E2%80%93Leibler_divergence) between the exact distribution $P(A \\mid D, E)$ and the approximations computed with Gibbs sampling. Different lines represent different value assignments to the evidence variables $D$ and $E$."
   ]
  },
  {
   "cell_type": "code",
   "execution_count": 12,
   "metadata": {
    "deletable": false,
    "editable": false,
    "nbgrader": {
     "cell_type": "code",
     "checksum": "c13010d566cc4b524aa9b7abc58d84aa",
     "grade": false,
     "grade_id": "cell-752ca4bf80183a1d",
     "locked": true,
     "schema_version": 3,
     "solution": false,
     "task": false
    }
   },
   "outputs": [
    {
     "data": {
      "image/png": "[encoded data removed]",
      "text/plain": [
       "<Figure size 720x576 with 1 Axes>"
      ]
     },
     "metadata": {
      "needs_background": "light"
     },
     "output_type": "display_data"
    }
   ],
   "source": [
    "from utils import approx_error\n",
    "\n",
    "_A_, _B_, _C_, _D_, _E_ = 0, 1, 2, 3, 4\n",
    "\n",
    "A = np.array([0.2, 0.8])\n",
    "B_A = np.array([[0.9, 0.2], [0.1, 0.8]])\n",
    "C = np.array([0.9, 0.1])\n",
    "D_BC = np.array([[[0.1, 0.2], [0.99, 0.8]], [[0.9, 0.8], [0.01, 0.2]]])\n",
    "E_C = np.array([[0.7, 0.4], [0.3, 0.6]])\n",
    "\n",
    "ABCDE = A[:, None, None, None, None] * B_A.T[:, :, None, None, None] * C [None, None, :, None, None] * D_BC.transpose(1, 2, 0)[None, :, :, :, None] * E_C.T[None, None, :, None, :]\n",
    "ADE = ABCDE.sum(axis=(1, 2))\n",
    "A_DE = ADE / ADE.sum(axis=0)[None, :, :]\n",
    "\n",
    "np.random.seed(0)\n",
    "errs = {}\n",
    "sample_counts = np.array([10, 20, 40, 80, 160 , 320, 640, 1280])\n",
    "\n",
    "# compute approximation error\n",
    "for d, e in zip([0, 0, 1, 1], [0, 1, 0, 1]):\n",
    "    errs[(d, e)] = approx_error(\n",
    "        bayes_net,\n",
    "        gibbs_sampling,  \n",
    "        A_DE[:, d, e],\n",
    "        _A_,\n",
    "        {_D_:d, _E_:e}, \n",
    "        sample_counts,\n",
    "        n_runs=100,\n",
    "        burn_in_samples=0,\n",
    "        sample_distance=1\n",
    "    )\n",
    "\n",
    "# plot\n",
    "plt.figure(figsize=(10, 8))\n",
    "plt.title('Kullback-Leiber Divergence')\n",
    "for d, e in zip([0, 0, 1, 1], [0, 1, 0, 1]):\n",
    "    plt.plot(sample_counts, errs[(d, e)], label=f'e:{e}, d:{d}', lw=2)\n",
    "    \n",
    "plt.legend()\n",
    "plt.xscale('log')\n",
    "plt.yscale('log')\n",
    "plt.xlim(sample_counts.min(), sample_counts.max())\n",
    "plt.xlabel('Number of samples')\n",
    "plt.show()"
   ]
  }
 ],
 "metadata": {
  "kernelspec": {
   "display_name": "base",
   "language": "python",
   "name": "python3"
  },
  "language_info": {
   "codemirror_mode": {
    "name": "ipython",
    "version": 3
   },
   "file_extension": ".py",
   "mimetype": "text/x-python",
   "name": "python",
   "nbconvert_exporter": "python",
   "pygments_lexer": "ipython3",
   "version": "3.9.12"
  },
  "vscode": {
   "interpreter": {
    "hash": "40d3a090f54c6569ab1632332b64b2c03c39dcf918b08424e98f38b5ae0af88f"
   }
  }
 },
 "nbformat": 4,
 "nbformat_minor": 4
}
