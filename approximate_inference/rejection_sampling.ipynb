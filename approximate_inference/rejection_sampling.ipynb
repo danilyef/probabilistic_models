{
 "cells": [
  {
   "attachments": {},
   "cell_type": "markdown",
   "metadata": {
    "deletable": false,
    "editable": false,
    "nbgrader": {
     "cell_type": "markdown",
     "checksum": "9456e73cc12172abd489344de9fb8292",
     "grade": false,
     "grade_id": "cell-11f79d0940899143",
     "locked": true,
     "schema_version": 3,
     "solution": false,
     "task": false
    }
   },
   "source": [
    "\n",
    "\n",
    "# Approximate Inference\n",
    "\n",
    "---\n",
    "In many real-world Bayesian networks, exact inference is impossible. However, we can answer arbitrary queries by generating samples from the target distribution and estimating the probabilities via counting. In the second assignment, you will familiarise yourself with two approximate inference methods for Bayesian networks:\n",
    "- Rejection Sampling\n",
    "- Likelihood Weighting\n"
   ]
  },
  {
   "cell_type": "code",
   "execution_count": 1,
   "metadata": {
    "deletable": false,
    "editable": false,
    "nbgrader": {
     "cell_type": "code",
     "checksum": "0a2152424ac0aedb136b96c86ab16f4a",
     "grade": false,
     "grade_id": "cell-98c1f957645e7920",
     "locked": true,
     "schema_version": 3,
     "solution": false,
     "task": false
    }
   },
   "outputs": [],
   "source": [
    "import numpy as np\n",
    "import matplotlib.pyplot as plt\n",
    "from bayesian_network import BayesNet"
   ]
  },
  {
   "attachments": {},
   "cell_type": "markdown",
   "metadata": {
    "deletable": false,
    "editable": false,
    "nbgrader": {
     "cell_type": "markdown",
     "checksum": "34047d09bcc2c2ffa0c67c2738bb5b17",
     "grade": false,
     "grade_id": "cell-8a9b6cf1529e8501",
     "locked": true,
     "schema_version": 3,
     "solution": false,
     "task": false
    }
   },
   "source": [
    "# Rejection Sampling\n",
    "\n",
    "\n",
    "We will implement the rejection sampling algorithm in this notebook and use it to approximate the probabilistic query $P(A \\mid D, E)$ for the Bayesian Network given below. In Rejection Sampling, one samples from the full joint distribution and throws away ('rejects') all samples that do not correspond to the evidence.\n",
    "\n",
    "implement two functions:\n",
    "- `sample_forward`\n",
    "- `rejection_sampling`\n",
    "\n",
    "`sample_forward` returns a set of samples from the full joint distribution $P(\\mathcal{X})$.\n",
    "\n",
    "`rejection_sampling` uses *sample_forward*, throws away all random events with mismatching evidence $\\mathbf{E}$, and estimates the distribution of query variable $X$. In other words, it computes an approximation of $P(X \\mid \\mathbf{E}=e)$. For simplicity, we will only consider probabilistic queries with one query variable $X$."
   ]
  },
  {
   "attachments": {},
   "cell_type": "markdown",
   "metadata": {
    "deletable": false,
    "editable": false,
    "nbgrader": {
     "cell_type": "markdown",
     "checksum": "d3ce68a2294e7f4bd9fd066f4e924557",
     "grade": false,
     "grade_id": "cell-7cfea4f9237cc0aa",
     "locked": true,
     "schema_version": 3,
     "solution": false,
     "task": false
    }
   },
   "source": [
    "### Forward Sampling \n",
    "<div class=\"alert alert-warning\">\n",
    "Implement the <i>sample_forward</i> function, which samples from the full joint distribution of a Bayesian network $\\mathcal{B}$. \n",
    "</div>\n",
    "\n",
    "The `sample_forward` function must return one object:\n",
    "- samples from the Bayesian network $\\mathcal{B}$ of type `np.ndarray`, with shape `(sample_size, len(bayes_net))`"
   ]
  },
  {
   "cell_type": "code",
   "execution_count": 2,
   "metadata": {
    "deletable": false,
    "editable": false,
    "nbgrader": {
     "cell_type": "code",
     "checksum": "0c13833192071b03e7ecba5aedd2b3d4",
     "grade": false,
     "grade_id": "cell-b118e5c1ec95408e",
     "locked": true,
     "schema_version": 3,
     "solution": false,
     "task": false
    }
   },
   "outputs": [
    {
     "name": "stdout",
     "output_type": "stream",
     "text": [
      "Help on function sample_categorical in module utils:\n",
      "\n",
      "sample_categorical(dist: numpy.ndarray) -> numpy.int64\n",
      "    Draws a single sample from a categorical distribution.\n",
      "    :param dist: NumPy array listing the probability of each outcome.\n",
      "    :returns: Index of the sampled element.\n",
      "\n"
     ]
    }
   ],
   "source": [
    "from utils import sample_categorical\n",
    "help(sample_categorical)"
   ]
  },
  {
   "cell_type": "code",
   "execution_count": 3,
   "metadata": {
    "deletable": false,
    "nbgrader": {
     "cell_type": "code",
     "checksum": "fb4334f953af92c070a080c4c925b6fb",
     "grade": false,
     "grade_id": "cell-a21d29b8eb812ba1",
     "locked": false,
     "schema_version": 3,
     "solution": true,
     "task": false
    }
   },
   "outputs": [],
   "source": [
    "def sample_forward(bayes_net: BayesNet, sample_size: int) -> np.ndarray:\n",
    "    '''\n",
    "    Samples from the full joint distribution.\n",
    "    :param bayes_net: A Bayesian network of type BayesNet.\n",
    "    :param sample_size: The number of samples to draw from the Bayesian network.\n",
    "    :returns: A NumPy array of type np.int64 with shape (sample_size, len(bayes_net))\n",
    "              containing samples from the Bayesian network\n",
    "    '''\n",
    "    \n",
    "    # array holding the samples\n",
    "    samples = np.empty((sample_size, len(bayes_net)), np.int64)\n",
    "    for i in range(sample_size):\n",
    "        for variable in bayes_net:\n",
    "            distribution = bayes_net[variable.id](samples[i])\n",
    "            sample = sample_categorical(distribution)\n",
    "            #update sample:\n",
    "            samples[i][variable.id] = sample\n",
    "\n",
    "    \n",
    "    return samples"
   ]
  },
  {
   "cell_type": "code",
   "execution_count": 15,
   "metadata": {
    "deletable": false,
    "editable": false,
    "nbgrader": {
     "cell_type": "code",
     "checksum": "f73c42eb3ef062ba0545a22d90e9c570",
     "grade": true,
     "grade_id": "cell-a9f3cf6d211b01fa",
     "locked": true,
     "points": 4,
     "schema_version": 3,
     "solution": false,
     "task": false
    }
   },
   "outputs": [],
   "source": [
    "# sanity checks\n",
    "bayes_net = BayesNet((np.array([0.5, 0.5]), [0]))\n",
    "bayes_net[0].pdt\n",
    "samples = sample_forward(bayes_net, 3)\n",
    "\n",
    "assert type(samples) == np.ndarray, f'\\nWrong output type!\\nExpected: np.ndarray\\nGiven:\\t  {type(samples)}'\n",
    "assert samples.shape == (3, 1), f'\\nWrong output shape!\\nExpected: (3, 1)\\nGiven:\\t  {samples.shape}'\n",
    "assert samples.dtype == np.int64, f'\\nWrong numpy array data type!\\nExpected: np.int64\\nGiven:\\t  {samples.dtype}'\n"
   ]
  },
  {
   "attachments": {},
   "cell_type": "markdown",
   "metadata": {
    "deletable": false,
    "editable": false,
    "nbgrader": {
     "cell_type": "markdown",
     "checksum": "47b73865ee141f27c0db7c06574fbc34",
     "grade": false,
     "grade_id": "cell-39ba0a156c9805da",
     "locked": true,
     "schema_version": 3,
     "solution": false,
     "task": false
    }
   },
   "source": [
    "### Rejection Sampling \n",
    "<div class=\"alert alert-warning\">\n",
    "    Implement the <i>rejection_sampling</i> function, which estimates the probability distribution over the query variable $X$ given evidence  $\\mathbf{E}=\\mathbf{e}$, i.e. $P(X \\mid \\mathbf{E}=\\mathbf{e})$. Use the <i>sample_forward</i> function implemented in the previous step to draw random events from $P(\\mathcal{X})$.\n",
    "</div>\n",
    "\n",
    "The `rejection_sampling` function must return one object:\n",
    "-  The 1-D probability distribution over variable $X$ of type `np.ndarray` with shape `(bayes_net[query_variable].num_values,)`. If the sample from the FJD does not contain any random events with matching evidence, return a NumPy array with the same shape as $P(X \\mid \\mathbf{E}=\\mathbf{e})$ containing only values `np.nan`, i.e. `np.full(bayes_net[query_variable].num_values, np.nan)`.\n"
   ]
  },
  {
   "cell_type": "code",
   "execution_count": 5,
   "metadata": {
    "deletable": false,
    "nbgrader": {
     "cell_type": "code",
     "checksum": "2dc9210d8775edcbc80c34c8b9573888",
     "grade": false,
     "grade_id": "cell-0f9107f6630622b7",
     "locked": false,
     "schema_version": 3,
     "solution": true,
     "task": false
    }
   },
   "outputs": [],
   "source": [
    "def rejection_sampling(bayes_net: BayesNet, query_variable: int, evidence: dict={}, sample_size: int=100) -> np.ndarray:\n",
    "    '''\n",
    "    Estimates the distribution of the query variale given the value of the evidence variables.\n",
    "    :param bayes_net: A Bayesian network of type BayesNet.\n",
    "    :param query_variable: Id of the query variable (int).\n",
    "    :param evidence: A dictionary of evidence variables (keys: int) and their correponding values (values: int).\n",
    "    :param sample_size: The number of samples to use for the estimation.\n",
    "    :returns: A NumPy array of type np.float64 representing the conditional distribution of the query variable given evidence, or a NumPy array of the same shape but with all values set to np.nan if no sample with matching evidence is found. \n",
    "    '''\n",
    "    \n",
    "    # forward sample...\n",
    "    samples = sample_forward(bayes_net, sample_size)\n",
    "    \n",
    "    #Mask for only evidence records\n",
    "    only_evidence = samples.copy()\n",
    "    for key,value in evidence.items():\n",
    "        only_evidence = only_evidence[(only_evidence[:, key] == value)]\n",
    "    \n",
    "\n",
    "\n",
    "    if len(only_evidence) == 0:\n",
    "        return np.full(bayes_net[query_variable].num_values, np.nan)\n",
    "    query_and_evidence_probability = np.bincount(only_evidence[:,query_variable])\n",
    "\n",
    "    distribution = query_and_evidence_probability / len(only_evidence)\n",
    "    return distribution"
   ]
  },
  {
   "cell_type": "code",
   "execution_count": 6,
   "metadata": {
    "deletable": false,
    "editable": false,
    "nbgrader": {
     "cell_type": "code",
     "checksum": "6cd7001a993a686a86d314aec13d080a",
     "grade": true,
     "grade_id": "cell-212c51d460b7c21a",
     "locked": true,
     "points": 4,
     "schema_version": 3,
     "solution": false,
     "task": false
    }
   },
   "outputs": [],
   "source": [
    "# sanity checks\n",
    "bayes_net = BayesNet((np.array([0.25, 0.25, 0.5]), [0]))\n",
    "\n",
    "np.random.seed(0)\n",
    "distribution = rejection_sampling(bayes_net, 0, {0:0}, 3)\n",
    "assert distribution.shape == (3,), f'\\nWrong output shape!\\nExpected: (3,)\\nGiven:\\t  {distribution.shape}'\n",
    "assert np.all(np.isnan(distribution)), f'Wrong distribution\\nExpected: {np.full(3,np.nan)}\\nGot: {distribution}\\n'\\\n",
    "                                        #'No matching evidence drawn in 3 samples for random seed 0.'\n",
    "\n",
    "distribution = rejection_sampling(bayes_net, 0, {}, 1000)\n",
    "assert type(distribution) == np.ndarray, f'\\nWrong output type!\\nExpected: np.ndarray\\nGiven:\\t  {type(distribution)}'\n",
    "assert distribution.shape == (3,), f'\\nWrong output shape!\\nExpected: (3,)\\nGiven:\\t  {distribution.shape}'\n",
    "assert distribution.dtype == np.float64, f'\\nWrong numpy array data type!\\nExpected: np.float64\\nGiven:\\t  {distribution.dtype}'\n"
   ]
  },
  {
   "cell_type": "markdown",
   "metadata": {
    "deletable": false,
    "editable": false,
    "nbgrader": {
     "cell_type": "markdown",
     "checksum": "b92570a65a3df8ee431597ec7018bb06",
     "grade": false,
     "grade_id": "cell-9548b463f05a9ca6",
     "locked": true,
     "schema_version": 3,
     "solution": false,
     "task": false
    }
   },
   "source": [
    "## Example\n",
    "\n",
    "\n",
    "Now that we can approximate arbitrary probabilistic queries let us compare an approximation's accuracy to an exact solution.\n",
    "\n",
    "Consider the following Bayesian Network (all variables are binary):\n",
    "\n",
    "<img width='30%' src='bn.svg'>\n",
    "\n",
    "The conditional probability tables are given as:\n",
    "\n",
    "<table style=\"float: left;margin:5px;\"><tr><th>P(A)</th><th>$a_0$<br></th><th>$a_1$</th></tr><tr><td>-</td><td>0.2</td><td>0.8</td></tr></table>\n",
    "\n",
    "<table style=\"float: left;margin:5px;\"><tr><th>P(C)</th><th>$c_0$<br></th><th>$c_1$</th></tr><tr><td>-</td><td>0.9</td><td>0.1</td></tr></table>\n",
    "\n",
    "<table style=\"float: left;margin:5px;\"><tr><th>P(B | A)</th><th>$a_0$<br></th><th>$a_1$</th></tr><tr><td>$b_0$</td><td>0.9</td><td>0.2</td></tr><tr><td>$b_1$</td><td>0.1</td><td>0.8</td></tr></table>\n",
    "\n",
    "\n",
    "<table style=\"float: left;margin:5px;\"><tr><th rowspan=\"2\">P(D | B, C)</th><th colspan=\"2\">$b_0$<br></th><th colspan=\"2\">$b_1$</th></tr><tr><td>$c_0$</td><td>$c_1$</td><td>$c_0$</td><td>$c_1$</td></tr><tr><td>$d_0$<br></td><td>0.1</td><td>0.2</td><td>0.99</td><td>0.8</td></tr><tr><td>$d_1$</td><td>0.9</td><td>0.8</td><td>0.01</td><td>0.2</td></tr></table>\n",
    "\n",
    "<table style=\"float: left;margin:5px;\"><tr><th>P(E | C)</th><th>$c_0$</th><th>$c_1$</th></tr><tr><td>$e_0$</td><td>0.7</td><td>0.4</td></tr><tr><td>$e_1$</td><td>0.3</td><td>0.6</td></tr></table>"
   ]
  },
  {
   "cell_type": "markdown",
   "metadata": {
    "deletable": false,
    "editable": false,
    "nbgrader": {
     "cell_type": "markdown",
     "checksum": "56c50aca9f805a32cebb6050cda362de",
     "grade": false,
     "grade_id": "cell-64db2a31f0478058",
     "locked": true,
     "schema_version": 3,
     "solution": false,
     "task": false
    }
   },
   "source": [
    "First, let us store these tables as global NumPy arrays and create the BayesNet object:"
   ]
  },
  {
   "cell_type": "code",
   "execution_count": 8,
   "metadata": {
    "deletable": false,
    "editable": false,
    "nbgrader": {
     "cell_type": "code",
     "checksum": "7a314981d203027cde6a36178e116342",
     "grade": false,
     "grade_id": "cell-ea9cddd63a7d7cbe",
     "locked": true,
     "schema_version": 3,
     "solution": false,
     "task": false
    }
   },
   "outputs": [],
   "source": [
    "_A_, _B_, _C_, _D_, _E_ = 0, 1, 2, 3, 4\n",
    "\n",
    "A = np.array([0.2, 0.8])\n",
    "B_A = np.array([[0.9, 0.2], [0.1, 0.8]])\n",
    "C = np.array([0.9, 0.1])\n",
    "D_BC = np.array([[[0.1, 0.2], [0.99, 0.8]], [[0.9, 0.8], [0.01, 0.2]]])\n",
    "E_C = np.array([[0.7, 0.4], [0.3, 0.6]])\n",
    "              \n",
    "bayes_net = BayesNet(\n",
    "    (A, [_A_]),\n",
    "    (B_A, [_B_, _A_]),\n",
    "    (C, [_C_]),\n",
    "    (D_BC, [_D_, _B_, _C_]),\n",
    "    (E_C, [_E_, _C_])\n",
    ")\n"
   ]
  },
  {
   "attachments": {},
   "cell_type": "markdown",
   "metadata": {
    "deletable": false,
    "editable": false,
    "nbgrader": {
     "cell_type": "markdown",
     "checksum": "83ff684dddfac04a128f53f9c9b74840",
     "grade": false,
     "grade_id": "cell-bafa6289ac7cb845",
     "locked": true,
     "schema_version": 3,
     "solution": false,
     "task": false
    }
   },
   "source": [
    "### Exact Computation \n",
    "<div class=\"alert alert-warning\">\n",
    "Compute $P(A \\mid D, E)$ exactly (up to floating point precision).\n",
    "</div>"
   ]
  },
  {
   "cell_type": "code",
   "execution_count": 9,
   "metadata": {
    "deletable": false,
    "nbgrader": {
     "cell_type": "code",
     "checksum": "fe14123fdae8fe56481ca73ec91be4c8",
     "grade": false,
     "grade_id": "cell-56090956bc549236",
     "locked": false,
     "schema_version": 3,
     "solution": true,
     "task": false
    }
   },
   "outputs": [],
   "source": [
    "ADE = 1\n",
    "\n",
    "for variable in bayes_net:\n",
    "    ADE = ADE * variable.pdt\n",
    "\n",
    "ADE = ADE.sum(axis = (bayes_net[_B_].id,bayes_net[_C_].id))\n",
    "Z = ADE.sum(axis = 0)\n",
    "\n",
    "A_DE = (ADE/Z)"
   ]
  },
  {
   "cell_type": "code",
   "execution_count": 10,
   "metadata": {
    "deletable": false,
    "editable": false,
    "nbgrader": {
     "cell_type": "code",
     "checksum": "7d2e7bfa1cec92e2d6bd7657b87eb759",
     "grade": true,
     "grade_id": "cell-b902e5cb2058921e",
     "locked": true,
     "points": 1,
     "schema_version": 3,
     "solution": false,
     "task": false
    }
   },
   "outputs": [],
   "source": [
    "# sanity checks\n",
    "assert A_DE is not None\n",
    "assert A_DE.shape == (2, 2, 2)\n",
    "assert np.all(np.isclose(A_DE.sum(axis=0), 1)), 'Expected well formed distributions with columns summing to 1.'\n"
   ]
  },
  {
   "attachments": {},
   "cell_type": "markdown",
   "metadata": {
    "deletable": false,
    "editable": false,
    "nbgrader": {
     "cell_type": "markdown",
     "checksum": "f373f54668415794f0f0ca8a6b4aea29",
     "grade": false,
     "grade_id": "cell-7e8e699e6fa63332",
     "locked": true,
     "schema_version": 3,
     "solution": false,
     "task": false
    }
   },
   "source": [
    "### Comparison\n",
    "\n",
    "Run the following code cell to plot the average [Kullback-Leibler divergence](https://en.wikipedia.org/wiki/Kullback%E2%80%93Leibler_divergence) between the exact distribution $P(A \\mid D, E)$ and the approximations computed with rejection sampling. Different lines represent different value assignments to the evidence variables $D$ and $E$.\n",
    "\n",
    "The computation of the approximations might take a while..."
   ]
  },
  {
   "cell_type": "code",
   "execution_count": null,
   "metadata": {
    "deletable": false,
    "editable": false,
    "nbgrader": {
     "cell_type": "code",
     "checksum": "23f5a81288645b389429359e4b28971e",
     "grade": false,
     "grade_id": "cell-e52d6309ba540279",
     "locked": true,
     "schema_version": 3,
     "solution": false,
     "task": false
    }
   },
   "outputs": [],
   "source": [
    "from utils import approx_error\n",
    "\n",
    "np.random.seed(0)\n",
    "errs = {}\n",
    "sample_counts = np.array([10, 20, 80, 160, 1000])\n",
    "\n",
    "# compute approximation error\n",
    "for d, e in zip([0, 0, 1, 1], [0, 1, 0, 1]):\n",
    "    errs[(d, e)] = approx_error(\n",
    "        bayes_net,\n",
    "        rejection_sampling,  \n",
    "        A_DE[:, d, e],\n",
    "        _A_,\n",
    "        {_D_:d, _E_:e}, \n",
    "        sample_counts,\n",
    "        n_runs=100\n",
    "    )\n",
    "\n",
    "\n",
    "\n",
    "# plot\n",
    "plt.figure(figsize=(10, 8))\n",
    "plt.title('Kullback-Leibler Divergence')\n",
    "for d, e in zip([0, 0, 1, 1], [0, 1, 0, 1]):\n",
    "    plt.plot(sample_counts, errs[(d, e)], label=f'e:{e}, d:{d}', lw=2)\n",
    "    \n",
    "plt.legend()\n",
    "plt.xscale('log')\n",
    "plt.yscale('log')\n",
    "plt.xlim(sample_counts.min(), sample_counts.max())\n",
    "plt.xlabel('Number of samples')\n",
    "plt.show()"
   ]
  }
 ],
 "metadata": {
  "kernelspec": {
   "display_name": "Python 3.9.12 ('base')",
   "language": "python",
   "name": "python3"
  },
  "language_info": {
   "codemirror_mode": {
    "name": "ipython",
    "version": 3
   },
   "file_extension": ".py",
   "mimetype": "text/x-python",
   "name": "python",
   "nbconvert_exporter": "python",
   "pygments_lexer": "ipython3",
   "version": "3.9.12"
  },
  "vscode": {
   "interpreter": {
    "hash": "40d3a090f54c6569ab1632332b64b2c03c39dcf918b08424e98f38b5ae0af88f"
   }
  }
 },
 "nbformat": 4,
 "nbformat_minor": 2
}
